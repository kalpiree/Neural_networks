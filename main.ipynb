{
 "cells": [
  {
   "cell_type": "markdown",
   "metadata": {
    "id": "uiR_zzBWrY-L"
   },
   "source": [
    "# EfficientDet Code\n",
    "\n",
    "Source: https://github.com/roboflow-ai/Monk_Object_Detection/tree/master/4_efficientdet"
   ]
  },
  {
   "cell_type": "code",
   "execution_count": null,
   "metadata": {
    "id": "X2EDGrtsba1E"
   },
   "outputs": [],
   "source": [
    "#Cloning code repo\n",
    "! git clone https://github.com/roboflow-ai/Monk_Object_Detection.git"
   ]
  },
  {
   "cell_type": "code",
   "execution_count": null,
   "metadata": {
    "id": "EIu1PTPlcAuU"
   },
   "outputs": [],
   "source": [
    "# Installing library requirements\n",
    "! cd Monk_Object_Detection/3_mxrcnn/installation && cat requirements_colab.txt | xargs -n 1 -L 1 pip install\n",
    "!pip install --force https://github.com/chengs/tqdm/archive/colab.zip\n",
    "!pip install efficientnet_pytorch\n",
    "!pip install tensorboardX"
   ]
  },
  {
   "cell_type": "code",
   "execution_count": null,
   "metadata": {
    "id": "6MQgwagUvBu3"
   },
   "outputs": [],
   "source": [
    "#Libraries required\n",
    "import json\n",
    "import os\n",
    "import sys\n",
    "import random\n",
    "import cv2\n",
    "from shutil import copy,rmtree\n",
    "from google.colab import files\n",
    "from tqdm import tqdm\n",
    "!pip install gdown"
   ]
  },
  {
   "cell_type": "markdown",
   "metadata": {
    "id": "m1y0WRVCsRhc"
   },
   "source": [
    "# Preprocessing dataset\n",
    "\n",
    "**Dataset**: [Aquarium Dataset](https://public.roboflow.com/object-detection/aquarium)\n",
    "\n",
    "**Object classes**: fish, jellyfish, penguin, shark, puffin, stingray, starfish"
   ]
  },
  {
   "cell_type": "code",
   "execution_count": null,
   "metadata": {
    "id": "QK73cnbNcMey"
   },
   "outputs": [],
   "source": [
    "#Downloading dataset\n",
    "!curl -L https://public.roboflow.com/ds/DPKAmRQ7E2?key=hqTXnMERKe > roboflow.zip; unzip roboflow.zip; rm roboflow.zip"
   ]
  },
  {
   "cell_type": "code",
   "execution_count": null,
   "metadata": {
    "id": "5DtDu-7Hlk_O"
   },
   "outputs": [],
   "source": [
    "#Preprocessing dataset to requirements of code library\n",
    "!mkdir Aquarium\n",
    "!mkdir Aquarium/annotations\n",
    "!mkdir Aquarium/Annotations\n",
    "!mkdir Aquarium/Images\n",
    "%cp train/_annotations.coco.json Aquarium/annotations/instances_Images.json\n",
    "%cp train/*.jpg Aquarium/Images/"
   ]
  },
  {
   "cell_type": "markdown",
   "metadata": {
    "id": "wBi3RS1_fd4N"
   },
   "source": [
    "# Training\n"
   ]
  },
  {
   "cell_type": "code",
   "execution_count": null,
   "metadata": {
    "id": "Fvfo6x7Vdw6i"
   },
   "outputs": [],
   "source": [
    "sys.path.append(\"Monk_Object_Detection/4_efficientdet/lib/\");"
   ]
  },
  {
   "cell_type": "code",
   "execution_count": null,
   "metadata": {
    "id": "21o9flNqfP-8"
   },
   "outputs": [],
   "source": [
    "from train_detector import Detector\n",
    "model = Detector();\n",
    "root_dir = \"./\";\n",
    "dataset_dir = \"Aquarium\";\n",
    "img_dir = \"./\";\n",
    "set_dir = \"Images\";\n",
    "batch_size = 8;\n",
    "image_size = 512;\n",
    "lr = 0.0001;\n",
    "num_epochs = 15;"
   ]
  },
  {
   "cell_type": "code",
   "execution_count": null,
   "metadata": {
    "id": "c35tC0dCfoky"
   },
   "outputs": [],
   "source": [
    "model.Train_Dataset(root_dir, dataset_dir, img_dir, set_dir, batch_size, image_size, use_gpu=True)"
   ]
  },
  {
   "cell_type": "code",
   "execution_count": null,
   "metadata": {
    "id": "aYKeGqpqgvN4"
   },
   "outputs": [],
   "source": [
    "#Training model\n",
    "model.Model();\n",
    "model.Set_Hyperparams(lr, val_interval=1, es_min_delta=0.0, es_patience=0)\n",
    "model.Train(num_epochs, model_output_dir=\"trained/\");"
   ]
  },
  {
   "cell_type": "markdown",
   "metadata": {
    "id": "1cj9gst-hRDg"
   },
   "source": [
    "# Image Inference"
   ]
  },
  {
   "cell_type": "code",
   "execution_count": null,
   "metadata": {
    "id": "ZC263x69sfai"
   },
   "outputs": [],
   "source": [
    "#Downloading pre-trained model and images\n",
    "sys.path.append(\"Monk_Object_Detection/4_efficientdet/lib/\");\n",
    "!gdown https://drive.google.com/uc?id=17-pdOsShbrxypsnbiNJsmSFZ_T87Q42S\n",
    "!gdown https://drive.google.com/uc?id=1U58p1TA23cW6JdA7FRiwMa5sD_fg_kwl\n",
    "!gdown https://drive.google.com/uc?id=1HZfHFSErtZ8UdJzj0DI6y_Asz3u-dcWY\n",
    "!gdown https://drive.google.com/uc?id=1gflRCxOn35ehtp7HQPIELqfkFz0w4wQf\n",
    "model_dir = 'trained/'\n",
    "if not os.path.exists(model_dir):\n",
    "    os.makedirs(model_dir)\n",
    "copy('signatrix_efficientdet_coco.pth', model_dir)\n",
    "copy('signatrix_efficientdet_coco.onnx', model_dir)"
   ]
  },
  {
   "cell_type": "code",
   "execution_count": null,
   "metadata": {
    "id": "VEuuSjWYte5-"
   },
   "outputs": [],
   "source": [
    "sys.path.append(\"Monk_Object_Detection/4_efficientdet/lib/\");\n",
    "from infer_detector import Infer\n",
    "model_inf = Infer();\n",
    "model_inf.Model(model_dir=\"trained/\")\n",
    "with open('class_list.json') as json_file:\n",
    "    data = json.load(json_file)\n",
    "class_list = []\n",
    "for category in data['categories']:\n",
    "  class_list.append(category['name'])"
   ]
  },
  {
   "cell_type": "code",
   "execution_count": null,
   "metadata": {
    "id": "YWbOZk-rthzW"
   },
   "outputs": [],
   "source": [
    "img_path = \"image_1.jpeg\"\n",
    "duration, scores, labels, boxes = model_inf.Predict(img_path, class_list, vis_threshold=0.2);\n",
    "from IPython.display import Image\n",
    "display(Image(filename=img_path)) "
   ]
  },
  {
   "cell_type": "code",
   "execution_count": null,
   "metadata": {
    "id": "CH2Tv7gstkP_"
   },
   "outputs": [],
   "source": [
    "\n",
    "from IPython.display import Image\n",
    "Image(filename='output.jpg') "
   ]
  },
  {
   "cell_type": "markdown",
   "metadata": {
    "id": "O3lvexJ_lqcr"
   },
   "source": [
    "# Video Inference"
   ]
  },
  {
   "cell_type": "code",
   "execution_count": null,
   "metadata": {
    "id": "Itm-XsGVKstq"
   },
   "outputs": [],
   "source": [
    "#Download trained model\n",
    "!gdown https://drive.google.com/uc?id=17-pdOsShbrxypsnbiNJsmSFZ_T87Q42S\n",
    "!gdown https://drive.google.com/uc?id=1U58p1TA23cW6JdA7FRiwMa5sD_fg_kwl\n",
    "!gdown https://drive.google.com/uc?id=1gflRCxOn35ehtp7HQPIELqfkFz0w4wQf\n",
    "model_dir = 'trained/'\n",
    "if not os.path.exists(model_dir):\n",
    "    os.makedirs(model_dir)\n",
    "copy('signatrix_efficientdet_coco.pth', model_dir)\n",
    "copy('signatrix_efficientdet_coco.onnx', model_dir)"
   ]
  },
  {
   "cell_type": "code",
   "execution_count": null,
   "metadata": {
    "id": "xrY_FXCfltxS"
   },
   "outputs": [],
   "source": [
    "#Download sample videos\n",
    "!gdown https://drive.google.com/uc?id=1VY_dJNIvOLuiEYS08-Z8EqxWV3V3inlC\n",
    "!gdown https://drive.google.com/uc?id=1ZAcSUx8NWWZOBKu424RP5PRN1tWNrgKd\n",
    "!gdown https://drive.google.com/uc?id=1X744_A08VJEI1K0y6ELDe4NVOgH8zdi0\n",
    "!gdown https://drive.google.com/uc?id=10CpRyuv4Fu6r1fJIrkGEAvxT_ts9rRto"
   ]
  },
  {
   "cell_type": "code",
   "execution_count": null,
   "metadata": {
    "id": "8kFvDuZblt7S"
   },
   "outputs": [],
   "source": [
    "#Function to perform video inference\n",
    "sys.path.append(\"Monk_Object_Detection/4_efficientdet/lib/\");\n",
    "from infer_detector import Infer\n",
    "def video_inf(input_video, output_video):\n",
    "    inp_video_capture = cv2.VideoCapture(input_video)\n",
    "    frame_width, frame_height = int(inp_video_capture.get(3)), int(inp_video_capture.get(4))\n",
    "    tgt_dir = 'input_imgs/'\n",
    "    if not os.path.exists(tgt_dir):\n",
    "        os.makedirs(tgt_dir)\n",
    "\n",
    "    frame_count = 1\n",
    "    while inp_video_capture.isOpened():\n",
    "        ret, frame = inp_video_capture.read()\n",
    "        if not ret:\n",
    "            break\n",
    "        cv2.imwrite(tgt_dir + str(frame_count) + \".jpg\", frame)\n",
    "        frame_count+=1\n",
    "    model_inf = Infer();\n",
    "    model_inf.Model(model_dir=\"trained/\")\n",
    "    with open('class_list.json') as json_file:\n",
    "        data = json.load(json_file)\n",
    "    class_list = []\n",
    "    for category in data['categories']:\n",
    "        class_list.append(category['name'])\n",
    "    imgs = [tgt_dir + str(cnt)+'.jpg' for cnt in range(1,frame_count)]\n",
    "    out_tgt_dir = 'output_imgs/'\n",
    "    if not os.path.exists(out_tgt_dir):\n",
    "        os.makedirs(out_tgt_dir)\n",
    "    for cnt in range(len(imgs)):\n",
    "        duration, scores, labels, boxes = model_inf.Predict(imgs[cnt], class_list, vis_threshold=0.2);\n",
    "        copy('output.jpg', out_tgt_dir + str(cnt) + '.jpg')\n",
    "    out_ptr = cv2.VideoWriter(output_video,\n",
    "                                cv2.VideoWriter_fourcc('m', 'p', '4', 'v'), 25,\n",
    "                                (frame_width, frame_height))\n",
    "    imgs = [out_tgt_dir + str(cnt)+'.jpg' for cnt in range(1,frame_count)]\n",
    "    for cnt in tqdm(range(len(imgs))):\n",
    "        img1 = cv2.imread(imgs[cnt]);\n",
    "        out_ptr.write(img1)\n",
    "    out_ptr.release()\n",
    "    rmtree('./input_imgs')\n",
    "    rmtree('./output_imgs')"
   ]
  },
  {
   "cell_type": "code",
   "execution_count": null,
   "metadata": {
    "id": "E2QmcBhupJzt"
   },
   "outputs": [],
   "source": [
    "input_video = 'video_1.mp4'\n",
    "output_video = 'video_1_inf.mp4'\n",
    "video_inf(input_video, output_video)"
   ]
  },
  {
   "cell_type": "code",
   "execution_count": null,
   "metadata": {
    "id": "jwFVCaBHCFYX"
   },
   "outputs": [],
   "source": [
    "input_video = 'video_2.mp4'\n",
    "output_video = 'video_2_inf.mp4'\n",
    "video_inf(input_video, output_video)"
   ]
  },
  {
   "cell_type": "code",
   "execution_count": null,
   "metadata": {
    "id": "PQpxsReACGIO"
   },
   "outputs": [],
   "source": [
    "input_video = 'video_3.mp4'\n",
    "output_video = 'video_3_inf.mp4'\n",
    "video_inf(input_video, output_video)"
   ]
  },
  {
   "cell_type": "code",
   "execution_count": null,
   "metadata": {
    "id": "G6G39nZLCGk7"
   },
   "outputs": [],
   "source": [
    "input_video = 'video_4.mp4'\n",
    "output_video = 'video_4_inf.mp4'\n",
    "video_inf(input_video, output_video)"
   ]
  },
  {
   "cell_type": "code",
   "execution_count": null,
   "metadata": {
    "id": "LnF8L2lyG-H9"
   },
   "outputs": [],
   "source": [
    "#Download inferred videos\n",
    "files.download(\"video_1_inf.mp4\")\n",
    "files.download(\"video_2_inf.mp4\")\n",
    "files.download(\"video_3_inf.mp4\")\n",
    "files.download(\"video_4_inf.mp4\")"
   ]
  }
 ],
 "metadata": {
  "accelerator": "GPU",
  "colab": {
   "collapsed_sections": [
    "uiR_zzBWrY-L",
    "m1y0WRVCsRhc",
    "wBi3RS1_fd4N",
    "O3lvexJ_lqcr"
   ],
   "name": "main.ipynb",
   "provenance": []
  },
  "kernelspec": {
   "display_name": "Python 3",
   "language": "python",
   "name": "python3"
  },
  "language_info": {
   "codemirror_mode": {
    "name": "ipython",
    "version": 3
   },
   "file_extension": ".py",
   "mimetype": "text/x-python",
   "name": "python",
   "nbconvert_exporter": "python",
   "pygments_lexer": "ipython3",
   "version": "3.8.8"
  }
 },
 "nbformat": 4,
 "nbformat_minor": 1
}
